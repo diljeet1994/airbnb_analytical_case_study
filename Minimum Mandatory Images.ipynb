{
 "cells": [
  {
   "cell_type": "code",
   "execution_count": 1,
   "metadata": {},
   "outputs": [],
   "source": [
    "import pandas as pd\n",
    "import numpy as np\n",
    "import matplotlib.pyplot as plt\n",
    "%matplotlib inline\n",
    "import seaborn as sns"
   ]
  },
  {
   "cell_type": "code",
   "execution_count": 2,
   "metadata": {
    "scrolled": true
   },
   "outputs": [
    {
     "data": {
      "text/html": [
       "<div>\n",
       "<style scoped>\n",
       "    .dataframe tbody tr th:only-of-type {\n",
       "        vertical-align: middle;\n",
       "    }\n",
       "\n",
       "    .dataframe tbody tr th {\n",
       "        vertical-align: top;\n",
       "    }\n",
       "\n",
       "    .dataframe thead th {\n",
       "        text-align: right;\n",
       "    }\n",
       "</style>\n",
       "<table border=\"1\" class=\"dataframe\">\n",
       "  <thead>\n",
       "    <tr style=\"text-align: right;\">\n",
       "      <th></th>\n",
       "      <th>Date</th>\n",
       "      <th>Open_Listings_0_2</th>\n",
       "      <th>Open_Listings_3_5</th>\n",
       "      <th>Open_Listings_6_10</th>\n",
       "      <th>Open_Listings_11_15</th>\n",
       "      <th>Open_Listings_16</th>\n",
       "      <th>Total_Open_Listings</th>\n",
       "    </tr>\n",
       "  </thead>\n",
       "  <tbody>\n",
       "    <tr>\n",
       "      <th>0</th>\n",
       "      <td>2018-08-01</td>\n",
       "      <td>51918</td>\n",
       "      <td>59583</td>\n",
       "      <td>9558</td>\n",
       "      <td>28830</td>\n",
       "      <td>38364</td>\n",
       "      <td>188253</td>\n",
       "    </tr>\n",
       "    <tr>\n",
       "      <th>1</th>\n",
       "      <td>2018-08-02</td>\n",
       "      <td>50196</td>\n",
       "      <td>67897</td>\n",
       "      <td>10820</td>\n",
       "      <td>23024</td>\n",
       "      <td>31676</td>\n",
       "      <td>183613</td>\n",
       "    </tr>\n",
       "    <tr>\n",
       "      <th>2</th>\n",
       "      <td>2018-08-03</td>\n",
       "      <td>56239</td>\n",
       "      <td>52148</td>\n",
       "      <td>24258</td>\n",
       "      <td>34328</td>\n",
       "      <td>7342</td>\n",
       "      <td>174315</td>\n",
       "    </tr>\n",
       "    <tr>\n",
       "      <th>3</th>\n",
       "      <td>2018-08-04</td>\n",
       "      <td>57762</td>\n",
       "      <td>67057</td>\n",
       "      <td>15148</td>\n",
       "      <td>15531</td>\n",
       "      <td>23232</td>\n",
       "      <td>178730</td>\n",
       "    </tr>\n",
       "    <tr>\n",
       "      <th>4</th>\n",
       "      <td>2018-08-05</td>\n",
       "      <td>59221</td>\n",
       "      <td>53113</td>\n",
       "      <td>18165</td>\n",
       "      <td>18387</td>\n",
       "      <td>8486</td>\n",
       "      <td>157372</td>\n",
       "    </tr>\n",
       "    <tr>\n",
       "      <th>...</th>\n",
       "      <td>...</td>\n",
       "      <td>...</td>\n",
       "      <td>...</td>\n",
       "      <td>...</td>\n",
       "      <td>...</td>\n",
       "      <td>...</td>\n",
       "      <td>...</td>\n",
       "    </tr>\n",
       "    <tr>\n",
       "      <th>391</th>\n",
       "      <td>2019-08-27</td>\n",
       "      <td>56367</td>\n",
       "      <td>67738</td>\n",
       "      <td>18257</td>\n",
       "      <td>17932</td>\n",
       "      <td>10341</td>\n",
       "      <td>170635</td>\n",
       "    </tr>\n",
       "    <tr>\n",
       "      <th>392</th>\n",
       "      <td>2019-08-28</td>\n",
       "      <td>50899</td>\n",
       "      <td>50229</td>\n",
       "      <td>31930</td>\n",
       "      <td>26997</td>\n",
       "      <td>27919</td>\n",
       "      <td>187974</td>\n",
       "    </tr>\n",
       "    <tr>\n",
       "      <th>393</th>\n",
       "      <td>2019-08-29</td>\n",
       "      <td>57409</td>\n",
       "      <td>66618</td>\n",
       "      <td>31124</td>\n",
       "      <td>30455</td>\n",
       "      <td>9602</td>\n",
       "      <td>195208</td>\n",
       "    </tr>\n",
       "    <tr>\n",
       "      <th>394</th>\n",
       "      <td>2019-08-30</td>\n",
       "      <td>51717</td>\n",
       "      <td>66600</td>\n",
       "      <td>15063</td>\n",
       "      <td>11580</td>\n",
       "      <td>14196</td>\n",
       "      <td>159156</td>\n",
       "    </tr>\n",
       "    <tr>\n",
       "      <th>395</th>\n",
       "      <td>2019-08-31</td>\n",
       "      <td>54262</td>\n",
       "      <td>55045</td>\n",
       "      <td>34688</td>\n",
       "      <td>18223</td>\n",
       "      <td>21343</td>\n",
       "      <td>183561</td>\n",
       "    </tr>\n",
       "  </tbody>\n",
       "</table>\n",
       "<p>396 rows × 7 columns</p>\n",
       "</div>"
      ],
      "text/plain": [
       "          Date  Open_Listings_0_2  Open_Listings_3_5  Open_Listings_6_10  \\\n",
       "0   2018-08-01              51918              59583                9558   \n",
       "1   2018-08-02              50196              67897               10820   \n",
       "2   2018-08-03              56239              52148               24258   \n",
       "3   2018-08-04              57762              67057               15148   \n",
       "4   2018-08-05              59221              53113               18165   \n",
       "..         ...                ...                ...                 ...   \n",
       "391 2019-08-27              56367              67738               18257   \n",
       "392 2019-08-28              50899              50229               31930   \n",
       "393 2019-08-29              57409              66618               31124   \n",
       "394 2019-08-30              51717              66600               15063   \n",
       "395 2019-08-31              54262              55045               34688   \n",
       "\n",
       "     Open_Listings_11_15  Open_Listings_16  Total_Open_Listings  \n",
       "0                  28830             38364               188253  \n",
       "1                  23024             31676               183613  \n",
       "2                  34328              7342               174315  \n",
       "3                  15531             23232               178730  \n",
       "4                  18387              8486               157372  \n",
       "..                   ...               ...                  ...  \n",
       "391                17932             10341               170635  \n",
       "392                26997             27919               187974  \n",
       "393                30455              9602               195208  \n",
       "394                11580             14196               159156  \n",
       "395                18223             21343               183561  \n",
       "\n",
       "[396 rows x 7 columns]"
      ]
     },
     "execution_count": 2,
     "metadata": {},
     "output_type": "execute_result"
    }
   ],
   "source": [
    "one_year_listings = pd.read_excel(\"Dataset_2_Open_Listings.csv.xlsx\")\n",
    "one_year_listings"
   ]
  },
  {
   "cell_type": "code",
   "execution_count": 3,
   "metadata": {},
   "outputs": [
    {
     "data": {
      "text/plain": [
       "Date                   0\n",
       "Open_Listings_0_2      0\n",
       "Open_Listings_3_5      0\n",
       "Open_Listings_6_10     0\n",
       "Open_Listings_11_15    0\n",
       "Open_Listings_16       0\n",
       "Total_Open_Listings    0\n",
       "dtype: int64"
      ]
     },
     "execution_count": 3,
     "metadata": {},
     "output_type": "execute_result"
    }
   ],
   "source": [
    "one_year_listings.isna().sum()"
   ]
  },
  {
   "cell_type": "code",
   "execution_count": 4,
   "metadata": {},
   "outputs": [
    {
     "data": {
      "text/html": [
       "<div>\n",
       "<style scoped>\n",
       "    .dataframe tbody tr th:only-of-type {\n",
       "        vertical-align: middle;\n",
       "    }\n",
       "\n",
       "    .dataframe tbody tr th {\n",
       "        vertical-align: top;\n",
       "    }\n",
       "\n",
       "    .dataframe thead th {\n",
       "        text-align: right;\n",
       "    }\n",
       "</style>\n",
       "<table border=\"1\" class=\"dataframe\">\n",
       "  <thead>\n",
       "    <tr style=\"text-align: right;\">\n",
       "      <th></th>\n",
       "      <th>Open_Listings_0_2</th>\n",
       "      <th>Open_Listings_3_5</th>\n",
       "      <th>Open_Listings_6_10</th>\n",
       "      <th>Open_Listings_11_15</th>\n",
       "      <th>Open_Listings_16</th>\n",
       "      <th>Total_Open_Listings</th>\n",
       "    </tr>\n",
       "  </thead>\n",
       "  <tbody>\n",
       "    <tr>\n",
       "      <th>count</th>\n",
       "      <td>396.000000</td>\n",
       "      <td>396.000000</td>\n",
       "      <td>396.000000</td>\n",
       "      <td>396.000000</td>\n",
       "      <td>396.000000</td>\n",
       "      <td>396.000000</td>\n",
       "    </tr>\n",
       "    <tr>\n",
       "      <th>mean</th>\n",
       "      <td>55029.512626</td>\n",
       "      <td>59662.522727</td>\n",
       "      <td>21133.517677</td>\n",
       "      <td>19038.590909</td>\n",
       "      <td>22883.616162</td>\n",
       "      <td>177747.760101</td>\n",
       "    </tr>\n",
       "    <tr>\n",
       "      <th>std</th>\n",
       "      <td>2967.222463</td>\n",
       "      <td>5860.702262</td>\n",
       "      <td>8415.726526</td>\n",
       "      <td>8731.377664</td>\n",
       "      <td>9942.862026</td>\n",
       "      <td>17367.718628</td>\n",
       "    </tr>\n",
       "    <tr>\n",
       "      <th>min</th>\n",
       "      <td>50032.000000</td>\n",
       "      <td>50001.000000</td>\n",
       "      <td>7262.000000</td>\n",
       "      <td>4002.000000</td>\n",
       "      <td>5146.000000</td>\n",
       "      <td>133794.000000</td>\n",
       "    </tr>\n",
       "    <tr>\n",
       "      <th>25%</th>\n",
       "      <td>52346.250000</td>\n",
       "      <td>54511.250000</td>\n",
       "      <td>13587.750000</td>\n",
       "      <td>11661.750000</td>\n",
       "      <td>14263.750000</td>\n",
       "      <td>164265.000000</td>\n",
       "    </tr>\n",
       "    <tr>\n",
       "      <th>50%</th>\n",
       "      <td>55222.500000</td>\n",
       "      <td>59464.500000</td>\n",
       "      <td>21296.500000</td>\n",
       "      <td>18376.500000</td>\n",
       "      <td>23723.500000</td>\n",
       "      <td>177290.000000</td>\n",
       "    </tr>\n",
       "    <tr>\n",
       "      <th>75%</th>\n",
       "      <td>57755.250000</td>\n",
       "      <td>65327.000000</td>\n",
       "      <td>28766.000000</td>\n",
       "      <td>26357.250000</td>\n",
       "      <td>31520.000000</td>\n",
       "      <td>188415.250000</td>\n",
       "    </tr>\n",
       "    <tr>\n",
       "      <th>max</th>\n",
       "      <td>59972.000000</td>\n",
       "      <td>69791.000000</td>\n",
       "      <td>34800.000000</td>\n",
       "      <td>34985.000000</td>\n",
       "      <td>39893.000000</td>\n",
       "      <td>224383.000000</td>\n",
       "    </tr>\n",
       "  </tbody>\n",
       "</table>\n",
       "</div>"
      ],
      "text/plain": [
       "       Open_Listings_0_2  Open_Listings_3_5  Open_Listings_6_10  \\\n",
       "count         396.000000         396.000000          396.000000   \n",
       "mean        55029.512626       59662.522727        21133.517677   \n",
       "std          2967.222463        5860.702262         8415.726526   \n",
       "min         50032.000000       50001.000000         7262.000000   \n",
       "25%         52346.250000       54511.250000        13587.750000   \n",
       "50%         55222.500000       59464.500000        21296.500000   \n",
       "75%         57755.250000       65327.000000        28766.000000   \n",
       "max         59972.000000       69791.000000        34800.000000   \n",
       "\n",
       "       Open_Listings_11_15  Open_Listings_16  Total_Open_Listings  \n",
       "count           396.000000        396.000000           396.000000  \n",
       "mean          19038.590909      22883.616162        177747.760101  \n",
       "std            8731.377664       9942.862026         17367.718628  \n",
       "min            4002.000000       5146.000000        133794.000000  \n",
       "25%           11661.750000      14263.750000        164265.000000  \n",
       "50%           18376.500000      23723.500000        177290.000000  \n",
       "75%           26357.250000      31520.000000        188415.250000  \n",
       "max           34985.000000      39893.000000        224383.000000  "
      ]
     },
     "execution_count": 4,
     "metadata": {},
     "output_type": "execute_result"
    }
   ],
   "source": [
    "one_year_listings.describe()"
   ]
  },
  {
   "cell_type": "markdown",
   "metadata": {},
   "source": [
    "#### Calculatimg Open Listing Ratio, Open_Listing/Total Open Listing for each day"
   ]
  },
  {
   "cell_type": "code",
   "execution_count": 5,
   "metadata": {
    "scrolled": true
   },
   "outputs": [
    {
     "data": {
      "text/html": [
       "<div>\n",
       "<style scoped>\n",
       "    .dataframe tbody tr th:only-of-type {\n",
       "        vertical-align: middle;\n",
       "    }\n",
       "\n",
       "    .dataframe tbody tr th {\n",
       "        vertical-align: top;\n",
       "    }\n",
       "\n",
       "    .dataframe thead th {\n",
       "        text-align: right;\n",
       "    }\n",
       "</style>\n",
       "<table border=\"1\" class=\"dataframe\">\n",
       "  <thead>\n",
       "    <tr style=\"text-align: right;\">\n",
       "      <th></th>\n",
       "      <th>Date</th>\n",
       "      <th>Open_Listings_0_2</th>\n",
       "      <th>Open_Listings_3_5</th>\n",
       "      <th>Open_Listings_6_10</th>\n",
       "      <th>Open_Listings_11_15</th>\n",
       "      <th>Open_Listings_16</th>\n",
       "      <th>Total_Open_Listings</th>\n",
       "      <th>0_2</th>\n",
       "      <th>3_5</th>\n",
       "      <th>6_10</th>\n",
       "      <th>11_15</th>\n",
       "      <th>16</th>\n",
       "    </tr>\n",
       "  </thead>\n",
       "  <tbody>\n",
       "    <tr>\n",
       "      <th>0</th>\n",
       "      <td>2018-08-01</td>\n",
       "      <td>51918</td>\n",
       "      <td>59583</td>\n",
       "      <td>9558</td>\n",
       "      <td>28830</td>\n",
       "      <td>38364</td>\n",
       "      <td>188253</td>\n",
       "      <td>0.275788</td>\n",
       "      <td>0.316505</td>\n",
       "      <td>0.050772</td>\n",
       "      <td>0.153145</td>\n",
       "      <td>0.203790</td>\n",
       "    </tr>\n",
       "    <tr>\n",
       "      <th>1</th>\n",
       "      <td>2018-08-02</td>\n",
       "      <td>50196</td>\n",
       "      <td>67897</td>\n",
       "      <td>10820</td>\n",
       "      <td>23024</td>\n",
       "      <td>31676</td>\n",
       "      <td>183613</td>\n",
       "      <td>0.273379</td>\n",
       "      <td>0.369783</td>\n",
       "      <td>0.058928</td>\n",
       "      <td>0.125394</td>\n",
       "      <td>0.172515</td>\n",
       "    </tr>\n",
       "    <tr>\n",
       "      <th>2</th>\n",
       "      <td>2018-08-03</td>\n",
       "      <td>56239</td>\n",
       "      <td>52148</td>\n",
       "      <td>24258</td>\n",
       "      <td>34328</td>\n",
       "      <td>7342</td>\n",
       "      <td>174315</td>\n",
       "      <td>0.322629</td>\n",
       "      <td>0.299160</td>\n",
       "      <td>0.139162</td>\n",
       "      <td>0.196931</td>\n",
       "      <td>0.042119</td>\n",
       "    </tr>\n",
       "    <tr>\n",
       "      <th>3</th>\n",
       "      <td>2018-08-04</td>\n",
       "      <td>57762</td>\n",
       "      <td>67057</td>\n",
       "      <td>15148</td>\n",
       "      <td>15531</td>\n",
       "      <td>23232</td>\n",
       "      <td>178730</td>\n",
       "      <td>0.323180</td>\n",
       "      <td>0.375186</td>\n",
       "      <td>0.084754</td>\n",
       "      <td>0.086896</td>\n",
       "      <td>0.129984</td>\n",
       "    </tr>\n",
       "    <tr>\n",
       "      <th>4</th>\n",
       "      <td>2018-08-05</td>\n",
       "      <td>59221</td>\n",
       "      <td>53113</td>\n",
       "      <td>18165</td>\n",
       "      <td>18387</td>\n",
       "      <td>8486</td>\n",
       "      <td>157372</td>\n",
       "      <td>0.376312</td>\n",
       "      <td>0.337500</td>\n",
       "      <td>0.115427</td>\n",
       "      <td>0.116838</td>\n",
       "      <td>0.053923</td>\n",
       "    </tr>\n",
       "    <tr>\n",
       "      <th>...</th>\n",
       "      <td>...</td>\n",
       "      <td>...</td>\n",
       "      <td>...</td>\n",
       "      <td>...</td>\n",
       "      <td>...</td>\n",
       "      <td>...</td>\n",
       "      <td>...</td>\n",
       "      <td>...</td>\n",
       "      <td>...</td>\n",
       "      <td>...</td>\n",
       "      <td>...</td>\n",
       "      <td>...</td>\n",
       "    </tr>\n",
       "    <tr>\n",
       "      <th>391</th>\n",
       "      <td>2019-08-27</td>\n",
       "      <td>56367</td>\n",
       "      <td>67738</td>\n",
       "      <td>18257</td>\n",
       "      <td>17932</td>\n",
       "      <td>10341</td>\n",
       "      <td>170635</td>\n",
       "      <td>0.330337</td>\n",
       "      <td>0.396976</td>\n",
       "      <td>0.106994</td>\n",
       "      <td>0.105090</td>\n",
       "      <td>0.060603</td>\n",
       "    </tr>\n",
       "    <tr>\n",
       "      <th>392</th>\n",
       "      <td>2019-08-28</td>\n",
       "      <td>50899</td>\n",
       "      <td>50229</td>\n",
       "      <td>31930</td>\n",
       "      <td>26997</td>\n",
       "      <td>27919</td>\n",
       "      <td>187974</td>\n",
       "      <td>0.270777</td>\n",
       "      <td>0.267212</td>\n",
       "      <td>0.169864</td>\n",
       "      <td>0.143621</td>\n",
       "      <td>0.148526</td>\n",
       "    </tr>\n",
       "    <tr>\n",
       "      <th>393</th>\n",
       "      <td>2019-08-29</td>\n",
       "      <td>57409</td>\n",
       "      <td>66618</td>\n",
       "      <td>31124</td>\n",
       "      <td>30455</td>\n",
       "      <td>9602</td>\n",
       "      <td>195208</td>\n",
       "      <td>0.294091</td>\n",
       "      <td>0.341267</td>\n",
       "      <td>0.159440</td>\n",
       "      <td>0.156013</td>\n",
       "      <td>0.049189</td>\n",
       "    </tr>\n",
       "    <tr>\n",
       "      <th>394</th>\n",
       "      <td>2019-08-30</td>\n",
       "      <td>51717</td>\n",
       "      <td>66600</td>\n",
       "      <td>15063</td>\n",
       "      <td>11580</td>\n",
       "      <td>14196</td>\n",
       "      <td>159156</td>\n",
       "      <td>0.324945</td>\n",
       "      <td>0.418457</td>\n",
       "      <td>0.094643</td>\n",
       "      <td>0.072759</td>\n",
       "      <td>0.089196</td>\n",
       "    </tr>\n",
       "    <tr>\n",
       "      <th>395</th>\n",
       "      <td>2019-08-31</td>\n",
       "      <td>54262</td>\n",
       "      <td>55045</td>\n",
       "      <td>34688</td>\n",
       "      <td>18223</td>\n",
       "      <td>21343</td>\n",
       "      <td>183561</td>\n",
       "      <td>0.295607</td>\n",
       "      <td>0.299873</td>\n",
       "      <td>0.188973</td>\n",
       "      <td>0.099275</td>\n",
       "      <td>0.116272</td>\n",
       "    </tr>\n",
       "  </tbody>\n",
       "</table>\n",
       "<p>396 rows × 12 columns</p>\n",
       "</div>"
      ],
      "text/plain": [
       "          Date  Open_Listings_0_2  Open_Listings_3_5  Open_Listings_6_10  \\\n",
       "0   2018-08-01              51918              59583                9558   \n",
       "1   2018-08-02              50196              67897               10820   \n",
       "2   2018-08-03              56239              52148               24258   \n",
       "3   2018-08-04              57762              67057               15148   \n",
       "4   2018-08-05              59221              53113               18165   \n",
       "..         ...                ...                ...                 ...   \n",
       "391 2019-08-27              56367              67738               18257   \n",
       "392 2019-08-28              50899              50229               31930   \n",
       "393 2019-08-29              57409              66618               31124   \n",
       "394 2019-08-30              51717              66600               15063   \n",
       "395 2019-08-31              54262              55045               34688   \n",
       "\n",
       "     Open_Listings_11_15  Open_Listings_16  Total_Open_Listings       0_2  \\\n",
       "0                  28830             38364               188253  0.275788   \n",
       "1                  23024             31676               183613  0.273379   \n",
       "2                  34328              7342               174315  0.322629   \n",
       "3                  15531             23232               178730  0.323180   \n",
       "4                  18387              8486               157372  0.376312   \n",
       "..                   ...               ...                  ...       ...   \n",
       "391                17932             10341               170635  0.330337   \n",
       "392                26997             27919               187974  0.270777   \n",
       "393                30455              9602               195208  0.294091   \n",
       "394                11580             14196               159156  0.324945   \n",
       "395                18223             21343               183561  0.295607   \n",
       "\n",
       "          3_5      6_10     11_15        16  \n",
       "0    0.316505  0.050772  0.153145  0.203790  \n",
       "1    0.369783  0.058928  0.125394  0.172515  \n",
       "2    0.299160  0.139162  0.196931  0.042119  \n",
       "3    0.375186  0.084754  0.086896  0.129984  \n",
       "4    0.337500  0.115427  0.116838  0.053923  \n",
       "..        ...       ...       ...       ...  \n",
       "391  0.396976  0.106994  0.105090  0.060603  \n",
       "392  0.267212  0.169864  0.143621  0.148526  \n",
       "393  0.341267  0.159440  0.156013  0.049189  \n",
       "394  0.418457  0.094643  0.072759  0.089196  \n",
       "395  0.299873  0.188973  0.099275  0.116272  \n",
       "\n",
       "[396 rows x 12 columns]"
      ]
     },
     "execution_count": 5,
     "metadata": {},
     "output_type": "execute_result"
    }
   ],
   "source": [
    "for col in ['Open_Listings_0_2', 'Open_Listings_3_5', 'Open_Listings_6_10', 'Open_Listings_11_15', 'Open_Listings_16']:\n",
    "    new_col = col[14:]\n",
    "    one_year_listings[new_col] = one_year_listings[col]/one_year_listings['Total_Open_Listings']\n",
    "one_year_listings"
   ]
  },
  {
   "cell_type": "code",
   "execution_count": 6,
   "metadata": {
    "scrolled": true
   },
   "outputs": [
    {
     "data": {
      "text/html": [
       "<div>\n",
       "<style scoped>\n",
       "    .dataframe tbody tr th:only-of-type {\n",
       "        vertical-align: middle;\n",
       "    }\n",
       "\n",
       "    .dataframe tbody tr th {\n",
       "        vertical-align: top;\n",
       "    }\n",
       "\n",
       "    .dataframe thead th {\n",
       "        text-align: right;\n",
       "    }\n",
       "</style>\n",
       "<table border=\"1\" class=\"dataframe\">\n",
       "  <thead>\n",
       "    <tr style=\"text-align: right;\">\n",
       "      <th></th>\n",
       "      <th>Open_Listings_0_2</th>\n",
       "      <th>Open_Listings_3_5</th>\n",
       "      <th>Open_Listings_6_10</th>\n",
       "      <th>Open_Listings_11_15</th>\n",
       "      <th>Open_Listings_16</th>\n",
       "      <th>Total_Open_Listings</th>\n",
       "      <th>0_2</th>\n",
       "      <th>3_5</th>\n",
       "      <th>6_10</th>\n",
       "      <th>11_15</th>\n",
       "      <th>16</th>\n",
       "    </tr>\n",
       "  </thead>\n",
       "  <tbody>\n",
       "    <tr>\n",
       "      <th>count</th>\n",
       "      <td>396.000000</td>\n",
       "      <td>396.000000</td>\n",
       "      <td>396.000000</td>\n",
       "      <td>396.000000</td>\n",
       "      <td>396.000000</td>\n",
       "      <td>396.000000</td>\n",
       "      <td>396.000000</td>\n",
       "      <td>396.000000</td>\n",
       "      <td>396.000000</td>\n",
       "      <td>396.000000</td>\n",
       "      <td>396.000000</td>\n",
       "    </tr>\n",
       "    <tr>\n",
       "      <th>mean</th>\n",
       "      <td>55029.512626</td>\n",
       "      <td>59662.522727</td>\n",
       "      <td>21133.517677</td>\n",
       "      <td>19038.590909</td>\n",
       "      <td>22883.616162</td>\n",
       "      <td>177747.760101</td>\n",
       "      <td>0.312382</td>\n",
       "      <td>0.337549</td>\n",
       "      <td>0.117792</td>\n",
       "      <td>0.105634</td>\n",
       "      <td>0.126643</td>\n",
       "    </tr>\n",
       "    <tr>\n",
       "      <th>std</th>\n",
       "      <td>2967.222463</td>\n",
       "      <td>5860.702262</td>\n",
       "      <td>8415.726526</td>\n",
       "      <td>8731.377664</td>\n",
       "      <td>9942.862026</td>\n",
       "      <td>17367.718628</td>\n",
       "      <td>0.033439</td>\n",
       "      <td>0.036169</td>\n",
       "      <td>0.043532</td>\n",
       "      <td>0.045043</td>\n",
       "      <td>0.050319</td>\n",
       "    </tr>\n",
       "    <tr>\n",
       "      <th>min</th>\n",
       "      <td>50032.000000</td>\n",
       "      <td>50001.000000</td>\n",
       "      <td>7262.000000</td>\n",
       "      <td>4002.000000</td>\n",
       "      <td>5146.000000</td>\n",
       "      <td>133794.000000</td>\n",
       "      <td>0.244842</td>\n",
       "      <td>0.254458</td>\n",
       "      <td>0.045861</td>\n",
       "      <td>0.023463</td>\n",
       "      <td>0.027655</td>\n",
       "    </tr>\n",
       "    <tr>\n",
       "      <th>25%</th>\n",
       "      <td>52346.250000</td>\n",
       "      <td>54511.250000</td>\n",
       "      <td>13587.750000</td>\n",
       "      <td>11661.750000</td>\n",
       "      <td>14263.750000</td>\n",
       "      <td>164265.000000</td>\n",
       "      <td>0.288545</td>\n",
       "      <td>0.313183</td>\n",
       "      <td>0.079024</td>\n",
       "      <td>0.069137</td>\n",
       "      <td>0.086429</td>\n",
       "    </tr>\n",
       "    <tr>\n",
       "      <th>50%</th>\n",
       "      <td>55222.500000</td>\n",
       "      <td>59464.500000</td>\n",
       "      <td>21296.500000</td>\n",
       "      <td>18376.500000</td>\n",
       "      <td>23723.500000</td>\n",
       "      <td>177290.000000</td>\n",
       "      <td>0.311572</td>\n",
       "      <td>0.335036</td>\n",
       "      <td>0.119734</td>\n",
       "      <td>0.105145</td>\n",
       "      <td>0.130154</td>\n",
       "    </tr>\n",
       "    <tr>\n",
       "      <th>75%</th>\n",
       "      <td>57755.250000</td>\n",
       "      <td>65327.000000</td>\n",
       "      <td>28766.000000</td>\n",
       "      <td>26357.250000</td>\n",
       "      <td>31520.000000</td>\n",
       "      <td>188415.250000</td>\n",
       "      <td>0.333872</td>\n",
       "      <td>0.361252</td>\n",
       "      <td>0.153229</td>\n",
       "      <td>0.140234</td>\n",
       "      <td>0.169595</td>\n",
       "    </tr>\n",
       "    <tr>\n",
       "      <th>max</th>\n",
       "      <td>59972.000000</td>\n",
       "      <td>69791.000000</td>\n",
       "      <td>34800.000000</td>\n",
       "      <td>34985.000000</td>\n",
       "      <td>39893.000000</td>\n",
       "      <td>224383.000000</td>\n",
       "      <td>0.432661</td>\n",
       "      <td>0.453722</td>\n",
       "      <td>0.211343</td>\n",
       "      <td>0.213836</td>\n",
       "      <td>0.245535</td>\n",
       "    </tr>\n",
       "  </tbody>\n",
       "</table>\n",
       "</div>"
      ],
      "text/plain": [
       "       Open_Listings_0_2  Open_Listings_3_5  Open_Listings_6_10  \\\n",
       "count         396.000000         396.000000          396.000000   \n",
       "mean        55029.512626       59662.522727        21133.517677   \n",
       "std          2967.222463        5860.702262         8415.726526   \n",
       "min         50032.000000       50001.000000         7262.000000   \n",
       "25%         52346.250000       54511.250000        13587.750000   \n",
       "50%         55222.500000       59464.500000        21296.500000   \n",
       "75%         57755.250000       65327.000000        28766.000000   \n",
       "max         59972.000000       69791.000000        34800.000000   \n",
       "\n",
       "       Open_Listings_11_15  Open_Listings_16  Total_Open_Listings         0_2  \\\n",
       "count           396.000000        396.000000           396.000000  396.000000   \n",
       "mean          19038.590909      22883.616162        177747.760101    0.312382   \n",
       "std            8731.377664       9942.862026         17367.718628    0.033439   \n",
       "min            4002.000000       5146.000000        133794.000000    0.244842   \n",
       "25%           11661.750000      14263.750000        164265.000000    0.288545   \n",
       "50%           18376.500000      23723.500000        177290.000000    0.311572   \n",
       "75%           26357.250000      31520.000000        188415.250000    0.333872   \n",
       "max           34985.000000      39893.000000        224383.000000    0.432661   \n",
       "\n",
       "              3_5        6_10       11_15          16  \n",
       "count  396.000000  396.000000  396.000000  396.000000  \n",
       "mean     0.337549    0.117792    0.105634    0.126643  \n",
       "std      0.036169    0.043532    0.045043    0.050319  \n",
       "min      0.254458    0.045861    0.023463    0.027655  \n",
       "25%      0.313183    0.079024    0.069137    0.086429  \n",
       "50%      0.335036    0.119734    0.105145    0.130154  \n",
       "75%      0.361252    0.153229    0.140234    0.169595  \n",
       "max      0.453722    0.211343    0.213836    0.245535  "
      ]
     },
     "execution_count": 6,
     "metadata": {},
     "output_type": "execute_result"
    }
   ],
   "source": [
    "one_year_listings.describe()"
   ]
  },
  {
   "cell_type": "markdown",
   "metadata": {},
   "source": [
    "### Box Plots for Open Listing data to find the best Images bucket, which is having lowest no of Zero property booking over the period of 1 year"
   ]
  },
  {
   "cell_type": "code",
   "execution_count": 7,
   "metadata": {
    "scrolled": true
   },
   "outputs": [
    {
     "data": {
      "text/plain": [
       "<matplotlib.axes._subplots.AxesSubplot at 0x1d6b620fb48>"
      ]
     },
     "execution_count": 7,
     "metadata": {},
     "output_type": "execute_result"
    },
    {
     "data": {
      "image/png": "[encoded data removed]",
      "text/plain": [
       "<Figure size 720x360 with 1 Axes>"
      ]
     },
     "metadata": {},
     "output_type": "display_data"
    }
   ],
   "source": [
    "sns.set(style='whitegrid', palette=\"deep\", font_scale=1.1, rc={\"figure.figsize\": [10, 5]})\n",
    "sns.boxplot(x='Open_Listings_11_15', data=one_year_listings)"
   ]
  },
  {
   "cell_type": "code",
   "execution_count": 8,
   "metadata": {
    "scrolled": true
   },
   "outputs": [
    {
     "data": {
      "text/plain": [
       "<matplotlib.axes._subplots.AxesSubplot at 0x1d6b6268d48>"
      ]
     },
     "execution_count": 8,
     "metadata": {},
     "output_type": "execute_result"
    },
    {
     "data": {
      "image/png": "[encoded data removed]",
      "text/plain": [
       "<Figure size 720x360 with 1 Axes>"
      ]
     },
     "metadata": {},
     "output_type": "display_data"
    }
   ],
   "source": [
    "sns.boxplot(x='Open_Listings_6_10', data=one_year_listings)"
   ]
  },
  {
   "cell_type": "code",
   "execution_count": 9,
   "metadata": {},
   "outputs": [
    {
     "data": {
      "text/plain": [
       "<matplotlib.axes._subplots.AxesSubplot at 0x1d6b841fb08>"
      ]
     },
     "execution_count": 9,
     "metadata": {},
     "output_type": "execute_result"
    },
    {
     "data": {
      "image/png": "[encoded data removed]",
      "text/plain": [
       "<Figure size 720x360 with 1 Axes>"
      ]
     },
     "metadata": {},
     "output_type": "display_data"
    }
   ],
   "source": [
    "sns.boxplot(data=one_year_listings[['Open_Listings_0_2', 'Open_Listings_3_5','Open_Listings_6_10', 'Open_Listings_11_15','Open_Listings_16']])\n"
   ]
  },
  {
   "cell_type": "code",
   "execution_count": 10,
   "metadata": {},
   "outputs": [
    {
     "data": {
      "text/plain": [
       "Text(0.5, 0, 'Images Buckets')"
      ]
     },
     "execution_count": 10,
     "metadata": {},
     "output_type": "execute_result"
    },
    {
     "data": {
      "image/png": "[encoded data removed]",
      "text/plain": [
       "<Figure size 720x360 with 1 Axes>"
      ]
     },
     "metadata": {},
     "output_type": "display_data"
    }
   ],
   "source": [
    "sns.boxplot(data=one_year_listings[['0_2', '3_5','6_10', '11_15','16']])\n",
    "plt.title(\"Images Buckets BoxPlot\")\n",
    "plt.xlabel(\"Images Buckets\")"
   ]
  },
  {
   "cell_type": "markdown",
   "metadata": {},
   "source": [
    "### Image Bucket 11-15 seems to have the lowest interquartile range for having lowest no of Zero property booking over the period of 1 year"
   ]
  },
  {
   "cell_type": "code",
   "execution_count": 11,
   "metadata": {},
   "outputs": [],
   "source": [
    "from scipy import stats as st"
   ]
  },
  {
   "cell_type": "code",
   "execution_count": 19,
   "metadata": {},
   "outputs": [
    {
     "data": {
      "text/plain": [
       "Ttest_indResult(statistic=3.862120653675147, pvalue=0.00012160873984365222)"
      ]
     },
     "execution_count": 19,
     "metadata": {},
     "output_type": "execute_result"
    }
   ],
   "source": [
    "st.ttest_ind(a=np.array(one_year_listings['6_10']), b=np.array(one_year_listings['11_15']))"
   ]
  },
  {
   "cell_type": "code",
   "execution_count": 13,
   "metadata": {},
   "outputs": [
    {
     "data": {
      "text/plain": [
       "Ttest_indResult(statistic=-3.437692904663763, pvalue=0.0006173899360599332)"
      ]
     },
     "execution_count": 13,
     "metadata": {},
     "output_type": "execute_result"
    }
   ],
   "source": [
    "st.ttest_ind(a=np.array(one_year_listings['Open_Listings_11_15']), b=np.array(one_year_listings['Open_Listings_6_10']))"
   ]
  },
  {
   "cell_type": "code",
   "execution_count": 16,
   "metadata": {},
   "outputs": [
    {
     "data": {
      "text/plain": [
       "Ttest_indResult(statistic=75.58936976941665, pvalue=0.0)"
      ]
     },
     "execution_count": 16,
     "metadata": {},
     "output_type": "execute_result"
    }
   ],
   "source": [
    "st.ttest_ind(a=np.array(one_year_listings['Open_Listings_0_2']), b=np.array(one_year_listings['Open_Listings_6_10']))"
   ]
  },
  {
   "cell_type": "code",
   "execution_count": null,
   "metadata": {},
   "outputs": [],
   "source": []
  }
 ],
 "metadata": {
  "kernelspec": {
   "display_name": "Python 3",
   "language": "python",
   "name": "python3"
  },
  "language_info": {
   "codemirror_mode": {
    "name": "ipython",
    "version": 3
   },
   "file_extension": ".py",
   "mimetype": "text/x-python",
   "name": "python",
   "nbconvert_exporter": "python",
   "pygments_lexer": "ipython3",
   "version": "3.7.6"
  }
 },
 "nbformat": 4,
 "nbformat_minor": 4
}
